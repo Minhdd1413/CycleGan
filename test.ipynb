{
 "cells": [
  {
   "cell_type": "code",
   "execution_count": 10,
   "metadata": {},
   "outputs": [],
   "source": [
    "import os\n",
    "from pyexpat import model\n",
    "import pandas as pd\n",
    "from torchvision.io import read_image\n",
    "import torch\n",
    "from torch.utils.data import Dataset\n",
    "from torchvision import transforms\n",
    "from torchvision.transforms import ToTensor\n",
    "import matplotlib.pyplot as plt\n",
    "from CustomDataset import Hourse2Jibraries\n",
    "import io"
   ]
  },
  {
   "cell_type": "code",
   "execution_count": 4,
   "metadata": {},
   "outputs": [
    {
     "name": "stdout",
     "output_type": "stream",
     "text": [
      "Using cpu device\n"
     ]
    }
   ],
   "source": [
    "# Set device\n",
    "device = \"cuda\" if torch.cuda.is_available() else \"cpu\"\n",
    "print(f\"Using {device} device\")"
   ]
  },
  {
   "cell_type": "code",
   "execution_count": 8,
   "metadata": {},
   "outputs": [],
   "source": [
    "# Loading data\n",
    "dataset = Hourse2Jibraries(csv_file = \"D:\\Coding\\CycleGAN\\Dataset.xlsx\", root_dir = \"trainAB\",\n",
    "                           transform = transforms.ToTensor())"
   ]
  },
  {
   "cell_type": "code",
   "execution_count": 2,
   "metadata": {},
   "outputs": [
    {
     "name": "stderr",
     "output_type": "stream",
     "text": [
      "c:\\Users\\ADMIN\\AppData\\Local\\Programs\\Python\\Python310\\lib\\site-packages\\tqdm\\auto.py:22: TqdmWarning: IProgress not found. Please update jupyter and ipywidgets. See https://ipywidgets.readthedocs.io/en/stable/user_install.html\n",
      "  from .autonotebook import tqdm as notebook_tqdm\n"
     ]
    }
   ],
   "source": [
    "import torch.nn as nn\n",
    "import torch.nn.functional as F\n",
    "import torch\n",
    "\n",
    "class Discriminator(nn.Module):\n",
    "    def __init__(self):\n",
    "        super(Discriminator, self).__init__()\n",
    "        \n",
    "        self.main = nn.Sequential(\n",
    "            nn.Conv2d(3, 64, 4, stride = 2, padding = 1), # channels: 3 -> 64\n",
    "            nn.LeakyReLU(0.2, inplace = True),\n",
    "            \n",
    "            nn.Conv2d(64, 128, 4, stride = 2, padding = 1), # channels: 64 -> 128\n",
    "            nn.InstanceNorm2d(128),\n",
    "            nn.LeakyReLU(0.2, inplace = True),\n",
    "            \n",
    "            nn.Conv2d(128, 256, 4, stride = 2, padding = 1), # channels: 128 -> 256\n",
    "            nn.InstanceNorm2d(256),\n",
    "            nn.LeakyReLU(0.2, inplace = True),\n",
    "            \n",
    "            nn.Conv2d(256, 512, 4, stride = 2, padding = 1), # channels: 256 -> 512\n",
    "            nn.InstanceNorm2d(512),\n",
    "            nn.LeakyReLU(0.2, inplace = True),      \n",
    "            \n",
    "            nn.Conv2d(512, 1, padding = 1) # channels: 512 -> 1\n",
    "        )\n",
    "\n",
    "    def forward(self, x):\n",
    "        x = self.main(x)\n",
    "        x = F.avg_pool2d(x, x.size()[2:])\n",
    "        x = torch.flatten(x, 1)\n",
    "        return x    "
   ]
  },
  {
   "cell_type": "code",
   "execution_count": 19,
   "metadata": {},
   "outputs": [
    {
     "name": "stdout",
     "output_type": "stream",
     "text": [
      "https://pytorch.org/docs/stable/generated/torch.full.html\n",
      "https://cdn.jsdelivr.net/npm/katex@0.10.0-beta/dist/katex.min.css\n",
      "https://cdn.jsdelivr.net/npm/katex@0.13.11/dist/katex.min.css\n",
      "https://www.googletagmanager.com/gtag/js?id=UA-117752657-2\n",
      "https://cdn.jsdelivr.net/npm/katex@0.10.0/dist/fonts/KaTeX_Math-Italic.woff2\n",
      "https://cdn.jsdelivr.net/npm/katex@0.10.0/dist/fonts/KaTeX_Main-Regular.woff2\n",
      "https://cdn.jsdelivr.net/npm/katex@0.10.0/dist/fonts/KaTeX_Main-Bold.woff2\n",
      "https://cdn.jsdelivr.net/npm/katex@0.10.0/dist/fonts/KaTeX_Size1-Regular.woff2\n",
      "https://cdn.jsdelivr.net/npm/katex@0.10.0/dist/fonts/KaTeX_Size4-Regular.woff2\n",
      "https://cdn.jsdelivr.net/npm/katex@0.10.0/dist/fonts/KaTeX_Size2-Regular.woff2\n",
      "https://cdn.jsdelivr.net/npm/katex@0.10.0/dist/fonts/KaTeX_Size3-Regular.woff2\n",
      "https://cdn.jsdelivr.net/npm/katex@0.10.0/dist/fonts/KaTeX_Caligraphic-Regular.woff2\n",
      "https://use.fontawesome.com/releases/v5.15.2/css/all.css\n",
      "https://pytorch.org/\n",
      "https://pytorch.org/get-started\n",
      "https://pytorch.org/ecosystem\n",
      "https://pytorch.org/mobile\n",
      "https://pytorch.org/blog/\n",
      "https://pytorch.org/tutorials\n",
      "https://pytorch.org/docs/stable/index.html\n",
      "https://pytorch.org/audio/stable/index.html\n",
      "https://pytorch.org/text/stable/index.html\n",
      "https://pytorch.org/vision/stable/index.html\n",
      "https://pytorch.org/torchrec\n",
      "https://pytorch.org/data\n",
      "https://pytorch.org/serve/\n",
      "https://pytorch.org/torchx/\n",
      "https://pytorch.org/xla\n",
      "https://pytorch.org/features\n",
      "https://pytorch.org/#community-module\n",
      "https://pytorch.org/resources\n",
      "https://discuss.pytorch.org/\n",
      "https://pytorch.org/hub\n",
      "https://github.com/pytorch/pytorch\n",
      "https://pytorch.org/javadoc/\n",
      "https://pytorch.org/audio/stable\n",
      "https://pytorch.org/data\n",
      "https://pytorch.org/torchrec\n",
      "https://pytorch.org/serve\n",
      "https://pytorch.org/text/stable\n",
      "https://pytorch.org/vision/stable\n",
      "http://pytorch.org/xla/\n",
      "http://schema.org/Article\n",
      "https://docs.python.org/3/library/functions.html#bool\n",
      "http://sphinx-doc.org/\n",
      "https://github.com/rtfd/sphinx_rtd_theme\n",
      "https://readthedocs.org\n",
      "https://cdnjs.cloudflare.com/ajax/libs/list.js/1.5.0/list.min.js\n",
      "https://www.googleadservices.com/pagead/conversion/795629140/?label=txkmCPmdtosBENSssfsC&amp;guid=ON&amp;script=0\n",
      "https://pytorch.org/docs/stable/index.html\n",
      "https://pytorch.org/tutorials\n",
      "https://pytorch.org/resources\n",
      "https://pytorch.org/\n",
      "https://pytorch.org/\n",
      "https://pytorch.org/get-started\n",
      "https://pytorch.org/features\n",
      "https://pytorch.org/ecosystem\n",
      "https://pytorch.org/blog/\n",
      "https://github.com/pytorch/pytorch/blob/master/CONTRIBUTING.md\n",
      "https://pytorch.org/resources\n",
      "https://pytorch.org/tutorials\n",
      "https://pytorch.org/docs/stable/index.html\n",
      "https://discuss.pytorch.org\n",
      "https://github.com/pytorch/pytorch/issues\n",
      "https://pytorch.org/assets/brand-guidelines/PyTorch-Brand-Guidelines.pdf\n",
      "https://www.facebook.com/pytorch\n",
      "https://twitter.com/pytorch\n",
      "https://www.youtube.com/pytorch\n",
      "https://www.facebook.com/policies/cookies/\n",
      "https://pytorch.org/\n",
      "https://pytorch.org/get-started\n",
      "https://pytorch.org/ecosystem\n",
      "https://pytorch.org/mobile\n",
      "https://pytorch.org/hub\n",
      "https://pytorch.org/blog/\n",
      "https://pytorch.org/tutorials\n",
      "https://pytorch.org/docs/stable/index.html\n",
      "https://pytorch.org/audio/stable/index.html\n",
      "https://pytorch.org/text/stable/index.html\n",
      "https://pytorch.org/vision/stable/index.html\n",
      "https://pytorch.org/serve/\n",
      "https://pytorch.org/torchx/\n",
      "https://pytorch.org/xla\n",
      "https://pytorch.org/resources\n",
      "https://pytorch.org/features\n",
      "https://pytorch.org/hub\n",
      "https://pytorch.org/#community-module\n",
      "https://discuss.pytorch.org/\n",
      "https://github.com/pytorch/pytorch\n"
     ]
    }
   ],
   "source": [
    "import requests\n",
    "import re\n",
    " \n",
    "url = input(\"Enter the URL: \")\n",
    " \n",
    "html = requests.get(url).text\n",
    " \n",
    "links = re.findall('\"(https?://.*?)\"', html)\n",
    " \n",
    "for link in links:\n",
    "    print(link)\n"
   ]
  },
  {
   "cell_type": "code",
   "execution_count": 14,
   "metadata": {},
   "outputs": [
    {
     "name": "stdout",
     "output_type": "stream",
     "text": [
      "None\n"
     ]
    }
   ],
   "source": [
    "def weights_init(m):\n",
    "    classname = m.__class__.__name__\n",
    "    if classname.find(\"Conv\") != -1:\n",
    "        torch.nn.init.normal_(m.weight, 0.0, 0.02)\n",
    "    elif classname.find(\"BatchNorm\") != -1:\n",
    "        torch.nn.init.normal_(m.weight, 1.0, 0.02)\n",
    "        torch.nn.init.zeros_(m.bias)\n",
    "        \n",
    "can = \"Conv\"\n",
    "print(weights_init(can))"
   ]
  },
  {
   "cell_type": "code",
   "execution_count": 25,
   "metadata": {},
   "outputs": [
    {
     "name": "stderr",
     "output_type": "stream",
     "text": [
      "usage: ipykernel_launcher.py [-h] [--sum] N [N ...]\n",
      "ipykernel_launcher.py: error: the following arguments are required: N\n"
     ]
    },
    {
     "ename": "SystemExit",
     "evalue": "2",
     "output_type": "error",
     "traceback": [
      "An exception has occurred, use %tb to see the full traceback.\n",
      "\u001b[1;31mSystemExit\u001b[0m\u001b[1;31m:\u001b[0m 2\n"
     ]
    }
   ],
   "source": [
    "\n",
    "import argparse\n",
    "\n",
    "parser = argparse.ArgumentParser(description='Process some integers.')\n",
    "parser.add_argument('integers', metavar='N', type=int, nargs='+',\n",
    "                    help='an integer for the accumulator')\n",
    "parser.add_argument('--sum', dest='accumulate', action='store_const',\n",
    "                    const=sum, default=max,\n",
    "                    help='sum the integers (default: find the max)')\n",
    "\n",
    "args = parser.parse_args()\n",
    "print(args.accumulate(args.integers))"
   ]
  }
 ],
 "metadata": {
  "kernelspec": {
   "display_name": "Python 3.10.4 64-bit",
   "language": "python",
   "name": "python3"
  },
  "language_info": {
   "codemirror_mode": {
    "name": "ipython",
    "version": 3
   },
   "file_extension": ".py",
   "mimetype": "text/x-python",
   "name": "python",
   "nbconvert_exporter": "python",
   "pygments_lexer": "ipython3",
   "version": "3.10.4"
  },
  "orig_nbformat": 4,
  "vscode": {
   "interpreter": {
    "hash": "31671a60cee805c34c73116577b485118ff3a75c458d3004d49632c19702ac60"
   }
  }
 },
 "nbformat": 4,
 "nbformat_minor": 2
}
